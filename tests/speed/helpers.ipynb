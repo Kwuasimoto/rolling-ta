{
 "cells": [
  {
   "cell_type": "markdown",
   "metadata": {},
   "source": [
    "### Numba Vs Numpy\n",
    "\n",
    "*Notes:*\n",
    "- Cells need to be ran twice to avoid jit compilation overhead."
   ]
  },
  {
   "cell_type": "code",
   "execution_count": 1,
   "metadata": {},
   "outputs": [],
   "source": [
    "# Append rolling_ta to sys path.\n",
    "import sys\n",
    "import os\n",
    "\n",
    "# Assuming rolling_ta is in the same level as tests/\n",
    "module_path = os.path.abspath(os.path.join(os.getcwd(), \"..\", \"..\"))\n",
    "\n",
    "# Add the path to sys.path\n",
    "if module_path not in sys.path:\n",
    "    sys.path.append(module_path)"
   ]
  },
  {
   "cell_type": "code",
   "execution_count": 2,
   "metadata": {},
   "outputs": [],
   "source": [
    "from rolling_ta.extras.numba import _empty, _shift, _prefix_sum, _mean\n",
    "from rolling_ta.logging import logger\n",
    "import numpy as np\n",
    "\n",
    "from time import time"
   ]
  },
  {
   "cell_type": "code",
   "execution_count": 3,
   "metadata": {},
   "outputs": [],
   "source": [
    "sample_data = np.random.rand(10000000)"
   ]
  },
  {
   "cell_type": "code",
   "execution_count": 8,
   "metadata": {},
   "outputs": [
    {
     "name": "stderr",
     "output_type": "stream",
     "text": [
      "INFO - TIMING: [ta=0.00000000000000000000s]\n",
      "INFO - TIMING: [rolling=0.00000000000000000000s]\n"
     ]
    }
   ],
   "source": [
    "# Cache empty\n",
    "_empty(1)\n",
    "\n",
    "start = time()\n",
    "np.empty(1000000000)\n",
    "logger.info(\"TIMING: [ta={:,.20f}s]\".format(time() - start))\n",
    "\n",
    "start = time()\n",
    "_empty(1000000000)\n",
    "logger.info(\"TIMING: [rolling={:,.20f}s]\".format(time() - start))\n"
   ]
  },
  {
   "cell_type": "code",
   "execution_count": 10,
   "metadata": {},
   "outputs": [
    {
     "name": "stderr",
     "output_type": "stream",
     "text": [
      "INFO - TIMING: [ta=0.04298496246337890625s]\n",
      "INFO - TIMING: [rolling=0.01100659370422363281s]\n"
     ]
    }
   ],
   "source": [
    "_prefix_sum(np.array([1,2]))\n",
    "\n",
    "start = time()\n",
    "sample_data.cumsum()\n",
    "logger.info(\"TIMING: [ta={:,.20f}s]\".format(time() - start))\n",
    "\n",
    "start = time()\n",
    "_prefix_sum(sample_data)\n",
    "logger.info(\"TIMING: [rolling={:,.20f}s]\".format(time() - start))"
   ]
  },
  {
   "cell_type": "code",
   "execution_count": 16,
   "metadata": {},
   "outputs": [
    {
     "name": "stderr",
     "output_type": "stream",
     "text": [
      "INFO - TIMING: [ta=0.01399612426757812500s]\n",
      "INFO - TIMING: [rolling=0.00300955772399902344s]\n"
     ]
    }
   ],
   "source": [
    "_mean(np.array([1,2,3]))\n",
    "\n",
    "start = time()\n",
    "sample_data.mean()\n",
    "logger.info(\"TIMING: [ta={:,.20f}s]\".format(time() - start))\n",
    "\n",
    "start = time()\n",
    "_mean(sample_data)\n",
    "logger.info(\"TIMING: [rolling={:,.20f}s]\".format(time() - start))"
   ]
  },
  {
   "cell_type": "code",
   "execution_count": 13,
   "metadata": {},
   "outputs": [
    {
     "name": "stderr",
     "output_type": "stream",
     "text": [
      "INFO - TIMING: [ta=0.01899695396423339844s]\n",
      "INFO - TIMING: [rolling=0.01099896430969238281s]\n"
     ]
    }
   ],
   "source": [
    "_shift(np.array([1,2,3]))\n",
    "\n",
    "start = time()\n",
    "np.roll(sample_data, -1)\n",
    "logger.info(\"TIMING: [ta={:,.20f}s]\".format(time() - start))\n",
    "\n",
    "start = time()\n",
    "_shift(sample_data)\n",
    "logger.info(\"TIMING: [rolling={:,.20f}s]\".format(time() - start))"
   ]
  }
 ],
 "metadata": {
  "kernelspec": {
   "display_name": ".rolling-ta",
   "language": "python",
   "name": "python3"
  },
  "language_info": {
   "codemirror_mode": {
    "name": "ipython",
    "version": 3
   },
   "file_extension": ".py",
   "mimetype": "text/x-python",
   "name": "python",
   "nbconvert_exporter": "python",
   "pygments_lexer": "ipython3",
   "version": "3.12.5"
  }
 },
 "nbformat": 4,
 "nbformat_minor": 2
}
