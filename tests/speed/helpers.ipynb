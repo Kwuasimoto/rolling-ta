{
 "cells": [
  {
   "cell_type": "markdown",
   "metadata": {},
   "source": [
    "### Numba Vs Numpy\n",
    "\n",
    "*Notes:*\n",
    "- Cells need to be ran twice to avoid jit compilation overhead."
   ]
  },
  {
   "cell_type": "code",
   "execution_count": 1,
   "metadata": {},
   "outputs": [],
   "source": [
    "# Append rolling_ta to sys path.\n",
    "import sys\n",
    "import os\n",
    "\n",
    "# Assuming rolling_ta is in the same level as tests/\n",
    "module_path = os.path.abspath(os.path.join(os.getcwd(), \"..\", \"..\"))\n",
    "\n",
    "# Add the path to sys.path\n",
    "if module_path not in sys.path:\n",
    "    sys.path.append(module_path)"
   ]
  },
  {
   "cell_type": "code",
   "execution_count": 2,
   "metadata": {},
   "outputs": [],
   "source": [
    "from rolling_ta.env import NUMBA_DISK_CACHING\n",
    "from rolling_ta.extras.numba import _empty, _shift, _prefix_sum, _mean\n",
    "from rolling_ta.logging import logger\n",
    "import numpy as np\n",
    "\n",
    "from time import time"
   ]
  },
  {
   "cell_type": "code",
   "execution_count": 3,
   "metadata": {},
   "outputs": [
    {
     "data": {
      "text/plain": [
       "False"
      ]
     },
     "execution_count": 3,
     "metadata": {},
     "output_type": "execute_result"
    }
   ],
   "source": [
    "NUMBA_DISK_CACHING"
   ]
  },
  {
   "cell_type": "code",
   "execution_count": 4,
   "metadata": {},
   "outputs": [],
   "source": [
    "sample_data = np.random.rand(1_000_000_000)\n",
    "dummy_data = np.array([1,2,3], dtype=np.float64)"
   ]
  },
  {
   "cell_type": "code",
   "execution_count": 5,
   "metadata": {},
   "outputs": [
    {
     "data": {
      "text/plain": [
       "2.0"
      ]
     },
     "execution_count": 5,
     "metadata": {},
     "output_type": "execute_result"
    }
   ],
   "source": [
    "# Precompile\n",
    "_empty(1_000_000_000, dtype=np.float64)\n",
    "_prefix_sum(dummy_data)\n",
    "_shift(dummy_data)\n",
    "_mean(dummy_data)"
   ]
  },
  {
   "cell_type": "code",
   "execution_count": 6,
   "metadata": {},
   "outputs": [
    {
     "name": "stderr",
     "output_type": "stream",
     "text": [
      "INFO - TIMING: [ta=0.00000000000000000000s]\n",
      "INFO - TIMING: [rolling=0.00000000000000000000s]\n"
     ]
    }
   ],
   "source": [
    "start = time()\n",
    "np.empty(1_000_000)\n",
    "logger.info(\"TIMING: [ta={:,.20f}s]\".format(time() - start))\n",
    "\n",
    "start = time()\n",
    "_empty(1_000_000, dtype=np.float64)\n",
    "logger.info(\"TIMING: [rolling={:,.20f}s]\".format(time() - start))\n"
   ]
  },
  {
   "cell_type": "code",
   "execution_count": 11,
   "metadata": {},
   "outputs": [
    {
     "name": "stderr",
     "output_type": "stream",
     "text": [
      "INFO - TIMING: [ta=3.79887318611145019531s]\n",
      "INFO - TIMING: [rolling=3.38146328926086425781s]\n"
     ]
    }
   ],
   "source": [
    "start = time()\n",
    "sample_data.cumsum()\n",
    "logger.info(\"TIMING: [ta={:,.20f}s]\".format(time() - start))\n",
    "\n",
    "start = time()\n",
    "_prefix_sum(sample_data)\n",
    "logger.info(\"TIMING: [rolling={:,.20f}s]\".format(time() - start))"
   ]
  },
  {
   "cell_type": "code",
   "execution_count": 8,
   "metadata": {},
   "outputs": [
    {
     "name": "stderr",
     "output_type": "stream",
     "text": [
      "INFO - TIMING: [ta=1.52812910079956054688s]\n",
      "INFO - TIMING: [rolling=0.29601573944091796875s]\n"
     ]
    }
   ],
   "source": [
    "start = time()\n",
    "sample_data.mean()\n",
    "logger.info(\"TIMING: [ta={:,.20f}s]\".format(time() - start))\n",
    "\n",
    "start = time()\n",
    "_mean(sample_data)\n",
    "logger.info(\"TIMING: [rolling={:,.20f}s]\".format(time() - start))"
   ]
  },
  {
   "cell_type": "code",
   "execution_count": 10,
   "metadata": {},
   "outputs": [
    {
     "name": "stderr",
     "output_type": "stream",
     "text": [
      "INFO - TIMING: [ta=1.74704432487487792969s]\n",
      "INFO - TIMING: [rolling=1.78122973442077636719s]\n"
     ]
    }
   ],
   "source": [
    "start = time()\n",
    "np.roll(sample_data, -1)\n",
    "logger.info(\"TIMING: [ta={:,.20f}s]\".format(time() - start))\n",
    "\n",
    "start = time()\n",
    "_shift(sample_data)\n",
    "logger.info(\"TIMING: [rolling={:,.20f}s]\".format(time() - start))"
   ]
  }
 ],
 "metadata": {
  "kernelspec": {
   "display_name": ".rolling-ta",
   "language": "python",
   "name": "python3"
  },
  "language_info": {
   "codemirror_mode": {
    "name": "ipython",
    "version": 3
   },
   "file_extension": ".py",
   "mimetype": "text/x-python",
   "name": "python",
   "nbconvert_exporter": "python",
   "pygments_lexer": "ipython3",
   "version": "3.12.5"
  }
 },
 "nbformat": 4,
 "nbformat_minor": 2
}
