{
 "cells": [
  {
   "cell_type": "code",
   "execution_count": 1,
   "metadata": {},
   "outputs": [],
   "source": [
    "# Append rolling_ta to sys path.\n",
    "import sys\n",
    "import os\n",
    "\n",
    "# Assuming rolling_ta is in the same level as tests/\n",
    "module_path = os.path.abspath(os.path.join(os.getcwd(), \"..\", \"..\"))\n",
    "\n",
    "# Add the path to sys.path\n",
    "if module_path not in sys.path:\n",
    "    sys.path.append(module_path)"
   ]
  },
  {
   "cell_type": "code",
   "execution_count": 2,
   "metadata": {},
   "outputs": [],
   "source": [
    "from ta.volatility import AverageTrueRange\n",
    "from rolling_ta.volatility import NumbaAverageTrueRange\n",
    "from rolling_ta.data import CSVLoader"
   ]
  },
  {
   "cell_type": "code",
   "execution_count": 3,
   "metadata": {},
   "outputs": [
    {
     "name": "stderr",
     "output_type": "stream",
     "text": [
      "DEBUG - CSVLoader: Loading from resources/btc_ohlcv.csv\n"
     ]
    },
    {
     "name": "stdout",
     "output_type": "stream",
     "text": [
      "<class 'pandas.core.frame.DataFrame'>\n",
      "RangeIndex: 10000 entries, 0 to 9999\n",
      "Data columns (total 6 columns):\n",
      " #   Column     Non-Null Count  Dtype  \n",
      "---  ------     --------------  -----  \n",
      " 0   timestamp  10000 non-null  float64\n",
      " 1   open       10000 non-null  float64\n",
      " 2   high       10000 non-null  float64\n",
      " 3   low        10000 non-null  float64\n",
      " 4   close      10000 non-null  float64\n",
      " 5   volume     10000 non-null  float64\n",
      "dtypes: float64(6)\n",
      "memory usage: 468.9 KB\n"
     ]
    }
   ],
   "source": [
    "loader = CSVLoader()\n",
    "data = loader.read_resource()\n",
    "data.info()"
   ]
  },
  {
   "cell_type": "code",
   "execution_count": 4,
   "metadata": {},
   "outputs": [
    {
     "data": {
      "text/plain": [
       "<rolling_ta.volatility.atr.NumbaAverageTrueRange at 0x1adf4a05820>"
      ]
     },
     "execution_count": 4,
     "metadata": {},
     "output_type": "execute_result"
    }
   ],
   "source": [
    "# Precompile\n",
    "NumbaAverageTrueRange(data)"
   ]
  },
  {
   "cell_type": "code",
   "execution_count": 5,
   "metadata": {},
   "outputs": [
    {
     "name": "stdout",
     "output_type": "stream",
     "text": [
      "38.1 ms ± 901 μs per loop (mean ± std. dev. of 7 runs, 10 loops each)\n"
     ]
    }
   ],
   "source": [
    "%%timeit\n",
    "atr = AverageTrueRange(data[\"high\"], data[\"low\"], data[\"close\"])\n",
    "atr.average_true_range()"
   ]
  },
  {
   "cell_type": "code",
   "execution_count": 6,
   "metadata": {},
   "outputs": [
    {
     "name": "stdout",
     "output_type": "stream",
     "text": [
      "47.9 ms ± 139 μs per loop (mean ± std. dev. of 7 runs, 10 loops each)\n"
     ]
    }
   ],
   "source": [
    "%%timeit\n",
    "NumbaAverageTrueRange(data, memory=False)"
   ]
  }
 ],
 "metadata": {
  "kernelspec": {
   "display_name": ".rolling-ta",
   "language": "python",
   "name": "python3"
  },
  "language_info": {
   "codemirror_mode": {
    "name": "ipython",
    "version": 3
   },
   "file_extension": ".py",
   "mimetype": "text/x-python",
   "name": "python",
   "nbconvert_exporter": "python",
   "pygments_lexer": "ipython3",
   "version": "3.12.5"
  }
 },
 "nbformat": 4,
 "nbformat_minor": 2
}
