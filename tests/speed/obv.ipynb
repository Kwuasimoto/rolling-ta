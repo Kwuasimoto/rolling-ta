{
 "cells": [
  {
   "cell_type": "code",
   "execution_count": 1,
   "metadata": {},
   "outputs": [],
   "source": [
    "# Append rolling_ta to sys path.\n",
    "import sys\n",
    "import os\n",
    "\n",
    "# Assuming rolling_ta is in the same level as tests/\n",
    "module_path = os.path.abspath(os.path.join(os.getcwd(), \"..\", \"..\"))\n",
    "\n",
    "# Add the path to sys.path\n",
    "if module_path not in sys.path:\n",
    "    sys.path.append(module_path)"
   ]
  },
  {
   "cell_type": "code",
   "execution_count": 2,
   "metadata": {},
   "outputs": [
    {
     "name": "stderr",
     "output_type": "stream",
     "text": [
      "INFO - Cache [numba=True]\n"
     ]
    }
   ],
   "source": [
    "from rolling_ta.data import CSVLoader\n",
    "from rolling_ta.volume import NumbaOBV\n",
    "from rolling_ta.logging import logger\n",
    "from ta.volume import OnBalanceVolumeIndicator\n",
    "from time import time"
   ]
  },
  {
   "cell_type": "code",
   "execution_count": 3,
   "metadata": {},
   "outputs": [
    {
     "name": "stderr",
     "output_type": "stream",
     "text": [
      "DEBUG - CSVLoader: Loading from resources/btc_ohlcv.csv\n"
     ]
    }
   ],
   "source": [
    "xls_loader = CSVLoader()\n",
    "data = xls_loader.read_resource().copy()"
   ]
  },
  {
   "cell_type": "code",
   "execution_count": 4,
   "metadata": {},
   "outputs": [],
   "source": [
    "# Precompile njit functions / Load from disk\n",
    "obv = NumbaOBV(data)\n",
    "obv.update(data.iloc[0])"
   ]
  },
  {
   "cell_type": "code",
   "execution_count": 5,
   "metadata": {},
   "outputs": [
    {
     "name": "stdout",
     "output_type": "stream",
     "text": [
      "260 μs ± 11.5 μs per loop (mean ± std. dev. of 7 runs, 1,000 loops each)\n"
     ]
    }
   ],
   "source": [
    "%%timeit\n",
    "obv = OnBalanceVolumeIndicator(data[\"close\"], data[\"volume\"])\n",
    "obv.on_balance_volume()"
   ]
  },
  {
   "cell_type": "code",
   "execution_count": 6,
   "metadata": {},
   "outputs": [
    {
     "name": "stdout",
     "output_type": "stream",
     "text": [
      "53.8 μs ± 1.07 μs per loop (mean ± std. dev. of 7 runs, 10,000 loops each)\n"
     ]
    }
   ],
   "source": [
    "%%timeit\n",
    "NumbaOBV(data, memory=False)\n",
    "    "
   ]
  },
  {
   "cell_type": "code",
   "execution_count": 7,
   "metadata": {},
   "outputs": [],
   "source": [
    "slice_a = data.copy().iloc[:100]\n",
    "slice_b = data.copy().iloc[100:]"
   ]
  },
  {
   "cell_type": "code",
   "execution_count": 8,
   "metadata": {},
   "outputs": [
    {
     "name": "stdout",
     "output_type": "stream",
     "text": [
      "272 ms ± 5.25 ms per loop (mean ± std. dev. of 7 runs, 1 loop each)\n"
     ]
    }
   ],
   "source": [
    "%%timeit\n",
    "rolling = NumbaOBV(slice_a)\n",
    "for _, series in slice_b.iterrows():\n",
    "    rolling.update(series)"
   ]
  }
 ],
 "metadata": {
  "kernelspec": {
   "display_name": ".rolling-ta",
   "language": "python",
   "name": "python3"
  },
  "language_info": {
   "codemirror_mode": {
    "name": "ipython",
    "version": 3
   },
   "file_extension": ".py",
   "mimetype": "text/x-python",
   "name": "python",
   "nbconvert_exporter": "python",
   "pygments_lexer": "ipython3",
   "version": "3.12.5"
  }
 },
 "nbformat": 4,
 "nbformat_minor": 2
}
