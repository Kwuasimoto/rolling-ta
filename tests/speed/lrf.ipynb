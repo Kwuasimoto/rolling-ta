{
 "cells": [
  {
   "cell_type": "code",
   "execution_count": 1,
   "metadata": {},
   "outputs": [],
   "source": [
    "# Append rolling_ta to sys path.\n",
    "import sys\n",
    "import os\n",
    "\n",
    "# Assuming rolling_ta is in the same level as tests/\n",
    "module_path = os.path.abspath(os.path.join(os.getcwd(), \"..\", \"..\"))\n",
    "\n",
    "# Add the path to sys.path\n",
    "if module_path not in sys.path:\n",
    "    sys.path.append(module_path)"
   ]
  },
  {
   "cell_type": "code",
   "execution_count": 2,
   "metadata": {},
   "outputs": [
    {
     "name": "stderr",
     "output_type": "stream",
     "text": [
      "DEBUG - Cache [numba=True]\n"
     ]
    }
   ],
   "source": [
    "import numpy as np\n",
    "from rolling_ta.data import CSVLoader\n",
    "from rolling_ta.extras.numba import _typical_price, _linear_regression, _linear_regression_forecast  "
   ]
  },
  {
   "cell_type": "code",
   "execution_count": 3,
   "metadata": {},
   "outputs": [
    {
     "name": "stderr",
     "output_type": "stream",
     "text": [
      "DEBUG - CSVLoader: Loading from resources/btc_ohlcv.csv\n"
     ]
    }
   ],
   "source": [
    "loader = CSVLoader()\n",
    "data = loader.read_resource()\n",
    "\n",
    "typical_price = np.zeros(data.size, dtype=np.float64)\n",
    "_typical_price(\n",
    "    data[\"high\"].to_numpy(dtype=np.float64), \n",
    "    data[\"low\"].to_numpy(dtype=np.float64), \n",
    "    data[\"close\"].to_numpy(dtype=np.float64), \n",
    "    typical_price   \n",
    ")\n",
    "\n",
    "slopes = np.zeros(data.size, dtype=np.float64)\n",
    "intercepts = np.zeros(data.size, dtype=np.float64)\n",
    "\n",
    "_linear_regression(typical_price, slopes, intercepts)\n",
    "\n",
    "forecast = 14\n",
    "forecasts = np.zeros(data.size + forecast, dtype=np.float64)"
   ]
  },
  {
   "cell_type": "code",
   "execution_count": 5,
   "metadata": {},
   "outputs": [
    {
     "name": "stdout",
     "output_type": "stream",
     "text": [
      "25.5 μs ± 1.6 μs per loop (mean ± std. dev. of 7 runs, 10,000 loops each)\n"
     ]
    }
   ],
   "source": [
    "%%timeit\n",
    "_linear_regression_forecast(slopes, intercepts, forecasts, forecast)"
   ]
  }
 ],
 "metadata": {
  "kernelspec": {
   "display_name": ".rolling-ta",
   "language": "python",
   "name": "python3"
  },
  "language_info": {
   "codemirror_mode": {
    "name": "ipython",
    "version": 3
   },
   "file_extension": ".py",
   "mimetype": "text/x-python",
   "name": "python",
   "nbconvert_exporter": "python",
   "pygments_lexer": "ipython3",
   "version": "3.12.5"
  }
 },
 "nbformat": 4,
 "nbformat_minor": 2
}
